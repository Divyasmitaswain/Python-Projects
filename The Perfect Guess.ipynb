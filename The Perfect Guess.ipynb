{
 "cells": [
  {
   "cell_type": "markdown",
   "id": "ca969616",
   "metadata": {},
   "source": [
    "# Project-2"
   ]
  },
  {
   "cell_type": "markdown",
   "id": "7952982e",
   "metadata": {},
   "source": [
    "In this project we are going to generates random number and asks the user to guess it . If the player guess is higher than the actual number the program displays \"lower number please\" .Similarly if the users guess is too low then the program prints \"higher number please \"  when the user guess the correct number , the program displays the number of guesses the player used to arrive at the number."
   ]
  },
  {
   "cell_type": "code",
   "execution_count": 1,
   "id": "92877dc9",
   "metadata": {},
   "outputs": [
    {
     "name": "stdout",
     "output_type": "stream",
     "text": [
      "Enter your guess:56\n",
      "You guessed it wrong enter a smaller number\n",
      "Enter your guess:45\n",
      "You guessed it wrong enter a smaller number\n",
      "Enter your guess:35\n",
      "You guessed it wrong enter a larger number\n",
      "Enter your guess:39\n",
      "Congratulation !! You guessed it right\n",
      "You guessed the number in 4 guesses\n",
      "You have just broken the High score !\n"
     ]
    }
   ],
   "source": [
    "import random\n",
    "randNumber=random.randint(1,100)\n",
    "userGuess=None\n",
    "guesses=0\n",
    "\n",
    "while(userGuess != randNumber):\n",
    "    userGuess=int(input(\"Enter your guess:\"))\n",
    "    guesses += 1\n",
    "    if(userGuess==randNumber):  \n",
    "        print(\"Congratulation !! You guessed it right\")\n",
    "    else:\n",
    "        if(userGuess>randNumber):\n",
    "            print(\"You guessed it wrong enter a smaller number\")\n",
    "        else:\n",
    "            print(\"You guessed it wrong enter a larger number\")\n",
    "print(f\"You guessed the number in {guesses} guesses\")   \n",
    "\n",
    "with open(\"highscore.txt\",\"r\")as f:\n",
    "    highscore=int(f.read())\n",
    "    \n",
    "if (guesses<highscore):\n",
    "    print(\"You have just broken the High score !\")\n",
    "    with open(\"highscore.txt\",\"w\") as f:\n",
    "        f.write(str(guesses))"
   ]
  }
 ],
 "metadata": {
  "kernelspec": {
   "display_name": "Python 3",
   "language": "python",
   "name": "python3"
  },
  "language_info": {
   "codemirror_mode": {
    "name": "ipython",
    "version": 3
   },
   "file_extension": ".py",
   "mimetype": "text/x-python",
   "name": "python",
   "nbconvert_exporter": "python",
   "pygments_lexer": "ipython3",
   "version": "3.8.8"
  }
 },
 "nbformat": 4,
 "nbformat_minor": 5
}
