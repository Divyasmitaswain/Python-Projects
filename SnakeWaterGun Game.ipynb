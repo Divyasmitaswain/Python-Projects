{
 "cells": [
  {
   "cell_type": "markdown",
   "id": "c0b1769f",
   "metadata": {},
   "source": [
    "# Snake , Water & Gun Game"
   ]
  },
  {
   "cell_type": "code",
   "execution_count": 3,
   "id": "46c36bf8",
   "metadata": {},
   "outputs": [
    {
     "name": "stdout",
     "output_type": "stream",
     "text": [
      "Computer turn:Snake('s'),Water('w'),Gun('g') \n",
      "Choose:Snake('s'),Water('w'),Gun('g'):s\n",
      "computer choose:w\n",
      "player choose:s\n",
      "You Win....!!!\n"
     ]
    }
   ],
   "source": [
    "#importing the module random\n",
    "import random\n",
    "\n",
    "def game(computer,player):\n",
    "    # If two values are equal , then declare tie.\n",
    "    if computer==player:\n",
    "        return None\n",
    "    \n",
    "    #check for all possibilities when computer choose 's'\n",
    "    elif computer=='s':\n",
    "        if player=='w':\n",
    "            return False\n",
    "        elif player=='g':\n",
    "            return True\n",
    "        \n",
    "    #check for all possibilities when computer choose 'w'    \n",
    "    elif computer=='w':\n",
    "        if player=='s':\n",
    "            return True\n",
    "        elif player=='g':\n",
    "            return False\n",
    "        \n",
    "    #check for all possibilities when computer choose 'g'      \n",
    "    elif computer=='g':\n",
    "        if player=='s':\n",
    "            return False\n",
    "        elif player=='w':\n",
    "            return True\n",
    "\n",
    "#it takes the input from computer as a random number        \n",
    "print(\"Computer turn:Snake('s'),Water('w'),Gun('g') \")\n",
    "randNo=random.randint(1,3)\n",
    "if (randNo==1):\n",
    "    computer= 's'\n",
    "elif(randNo==2):\n",
    "    computer='w'\n",
    "elif(randNo==3):\n",
    "    computer=='g'\n",
    "    \n",
    "#for taking the player input    \n",
    "player=input(\"Choose:Snake('s'),Water('w'),Gun('g'):\")\n",
    "a=game(computer,player)\n",
    "\n",
    "#this statement show what the player choose and what the computer choose\n",
    "print(f\"computer choose:{computer}\")\n",
    "print(f\"player choose:{player}\")\n",
    "\n",
    "#for printing the statement after game is over\n",
    "if a==None:\n",
    "    print(\"This is a tie!!\")\n",
    "elif a:\n",
    "    print(\"You Win....!!!\")\n",
    "else:\n",
    "    print(\"You Loose....\")  "
   ]
  }
 ],
 "metadata": {
  "kernelspec": {
   "display_name": "Python 3",
   "language": "python",
   "name": "python3"
  },
  "language_info": {
   "codemirror_mode": {
    "name": "ipython",
    "version": 3
   },
   "file_extension": ".py",
   "mimetype": "text/x-python",
   "name": "python",
   "nbconvert_exporter": "python",
   "pygments_lexer": "ipython3",
   "version": "3.8.8"
  }
 },
 "nbformat": 4,
 "nbformat_minor": 5
}
